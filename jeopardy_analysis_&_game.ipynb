{
 "cells": [
  {
   "cell_type": "markdown",
   "id": "answering-edmonton",
   "metadata": {},
   "source": [
    "## Analyzing and Cleaning Jeopardy! Dataset"
   ]
  },
  {
   "cell_type": "code",
   "execution_count": 2,
   "id": "sustained-designation",
   "metadata": {},
   "outputs": [
    {
     "name": "stdout",
     "output_type": "stream",
     "text": [
      "   show_number    air_date      round                         category value  \\\n",
      "0         4680  2004-12-31  Jeopardy!                          HISTORY  $200   \n",
      "1         4680  2004-12-31  Jeopardy!  ESPN's TOP 10 ALL-TIME ATHLETES  $200   \n",
      "2         4680  2004-12-31  Jeopardy!      EVERYBODY TALKS ABOUT IT...  $200   \n",
      "3         4680  2004-12-31  Jeopardy!                 THE COMPANY LINE  $200   \n",
      "4         4680  2004-12-31  Jeopardy!              EPITAPHS & TRIBUTES  $200   \n",
      "\n",
      "                                                                                                      question  \\\n",
      "0             For the last 8 years of his life, Galileo was under house arrest for espousing this man's theory   \n",
      "1  No. 2: 1912 Olympian; football star at Carlisle Indian School; 6 MLB seasons with the Reds, Giants & Braves   \n",
      "2                     The city of Yuma in this state has a record average of 4,055 hours of sunshine each year   \n",
      "3                         In 1963, live on \"The Art Linkletter Show\", this company served its billionth burger   \n",
      "4     Signer of the Dec. of Indep., framer of the Constitution of Mass., second President of the United States   \n",
      "\n",
      "       answer  \n",
      "0  Copernicus  \n",
      "1  Jim Thorpe  \n",
      "2     Arizona  \n",
      "3  McDonald's  \n",
      "4  John Adams  \n"
     ]
    }
   ],
   "source": [
    "# Opens and reads csv file\n",
    "import pandas as pd\n",
    "import random\n",
    "pd.set_option('display.max_colwidth', None)\n",
    "\n",
    "df = pd.read_csv(\"jeopardy.csv\")\n",
    "df1 = df.rename(columns={\"Show Number\":\"show_number\", \" Air Date\":\"air_date\", \" Round\":\"round\", \" Category\":\"category\", \" Value\": \"value\", \" Question\":\"question\", \" Answer\":\"answer\"})\n",
    "print(df1.head())"
   ]
  },
  {
   "cell_type": "code",
   "execution_count": 3,
   "id": "adopted-burden",
   "metadata": {},
   "outputs": [
    {
     "name": "stdout",
     "output_type": "stream",
     "text": [
      "0          200.0\n",
      "1          200.0\n",
      "2          200.0\n",
      "3          200.0\n",
      "4          200.0\n",
      "           ...  \n",
      "216925    2000.0\n",
      "216926    2000.0\n",
      "216927    2000.0\n",
      "216928    2000.0\n",
      "216929       0.0\n",
      "Name: value, Length: 216930, dtype: float64\n"
     ]
    }
   ],
   "source": [
    "# Convert value column from str to float\n",
    "df1[\"value\"] = df1.value.apply(lambda x: \"0\" if x == \"None\" else x.replace(\",\",\"\")) \n",
    "df1[\"value\"] = df1.value.apply(lambda x:float(x.replace(\"$\",\"\"))) \n",
    "print(df1.value)"
   ]
  },
  {
   "cell_type": "code",
   "execution_count": 4,
   "id": "laden-scholarship",
   "metadata": {
    "scrolled": true
   },
   "outputs": [
    {
     "name": "stdout",
     "output_type": "stream",
     "text": [
      "        show_number    air_date             round                    category  \\\n",
      "40             4680  2004-12-31  Double Jeopardy!  DR. SEUSS AT THE MULTIPLEX   \n",
      "781            4335  2003-06-06         Jeopardy!                   MY PLACE?   \n",
      "811            4335  2003-06-06  Double Jeopardy!                 \"S\"-OTERICA   \n",
      "896            3834  2001-04-12         Jeopardy!          AIN'T THAT AMERICA   \n",
      "1074           4085  2002-05-10         Jeopardy!                CENTRAL PARK   \n",
      "...             ...         ...               ...                         ...   \n",
      "216210         1251  1990-01-29         Jeopardy!                   THE BIBLE   \n",
      "216232         1251  1990-01-29         Jeopardy!                THANKS, GUYS   \n",
      "216445         3644  2000-06-08   Final Jeopardy!                   THE BIBLE   \n",
      "216752         5070  2006-09-29         Jeopardy!                 SIGNING OFF   \n",
      "216777         5070  2006-09-29  Double Jeopardy!             ANCIENT HISTORY   \n",
      "\n",
      "         value  \\\n",
      "40      1200.0   \n",
      "781      200.0   \n",
      "811      400.0   \n",
      "896      200.0   \n",
      "1074     400.0   \n",
      "...        ...   \n",
      "216210   100.0   \n",
      "216232   400.0   \n",
      "216445     0.0   \n",
      "216752   200.0   \n",
      "216777   400.0   \n",
      "\n",
      "                                                                                                                                                                                 question  \\\n",
      "40      <a href=\"http://www.j-archive.com/media/2004-12-31_DJ_26.mp3\">Ripped from today's headlines, he was a turtle king gone mad; Mack was the one good turtle who'd bring him down</a>   \n",
      "781                                                                                                              A Norman could say, \"I'm the king of the motte-and-bailey style of\" this   \n",
      "811                                                                                                        Examples of this TV format include \"Leave It to Beaver\" & \"The King of Queens\"   \n",
      "896                                                                                                              This state was named for a man who was a European king from 1643 to 1715   \n",
      "1074                                                                        Central Park has a statue of King Wladyslaw II Jagiello of this country, who was also Grand Duke of Lithuania   \n",
      "...                                                                                                                                                                                   ...   \n",
      "216210                                                                                                 Half of the Psalms are attributed to this king whose name means \"Beloved (Of God)\"   \n",
      "216232                                                                                                            When we need to know about this, the King of Beers, we call Mary McHugh   \n",
      "216445                                                                                               According to the King James Version of the Bible, the number of people on Noah's Ark   \n",
      "216752                                                                       Upon signing his name in 1776 he said, \"There, King George will be able to read that without his spectacles\"   \n",
      "216777                                                                 The first one of these tombs was built about 2650 B.C. by Imhotep for King Zoser & rose about 200 feet using steps   \n",
      "\n",
      "                                   answer  \n",
      "40                                 Yertle  \n",
      "781                                castle  \n",
      "811                                sitcom  \n",
      "896                             Louisiana  \n",
      "1074                               Poland  \n",
      "...                                   ...  \n",
      "216210                              David  \n",
      "216232                          Budweiser  \n",
      "216445                                  8  \n",
      "216752                     (John) Hancock  \n",
      "216777  a pyramid (the pyramids accepted)  \n",
      "\n",
      "[1786 rows x 7 columns]\n"
     ]
    }
   ],
   "source": [
    "# Creates a dataframe with the questions that contain the words in input_list.\n",
    "input_list = [\"king\"]\n",
    "boolean = df1.question.apply(lambda x: all(\" \" + word.lower() + \" \" in x.lower() for word in input_list))\n",
    "filtered_df = df1[boolean]\n",
    "print(filtered_df)\n"
   ]
  },
  {
   "cell_type": "code",
   "execution_count": 5,
   "id": "micro-municipality",
   "metadata": {},
   "outputs": [
    {
     "name": "stdout",
     "output_type": "stream",
     "text": [
      "806.9708846584547\n"
     ]
    }
   ],
   "source": [
    "# Finds the average value of questions containing the words in input_list.\n",
    "average_value = filtered_df.value.mean()\n",
    "print(average_value)"
   ]
  },
  {
   "cell_type": "code",
   "execution_count": 6,
   "id": "moved-accounting",
   "metadata": {},
   "outputs": [
    {
     "name": "stdout",
     "output_type": "stream",
     "text": [
      "1040\n"
     ]
    }
   ],
   "source": [
    "# Number of unique answers to the questions containing the words in input_list.\n",
    "nunique_ans = filtered_df.answer.nunique()\n",
    "print(nunique_ans)"
   ]
  },
  {
   "cell_type": "code",
   "execution_count": 7,
   "id": "stupid-hamburg",
   "metadata": {},
   "outputs": [
    {
     "name": "stdout",
     "output_type": "stream",
     "text": [
      "0    BEFORE & AFTER\n",
      "dtype: object\n"
     ]
    }
   ],
   "source": [
    "# Most common category in whole dataset\n",
    "most_common_cat = df1.category.mode()\n",
    "print(most_common_cat)"
   ]
  },
  {
   "cell_type": "code",
   "execution_count": 11,
   "id": "excessive-vienna",
   "metadata": {},
   "outputs": [
    {
     "name": "stdout",
     "output_type": "stream",
     "text": [
      "27995\n"
     ]
    }
   ],
   "source": [
    "categories = df1.category.nunique()\n",
    "print(categories)"
   ]
  },
  {
   "cell_type": "markdown",
   "id": "painful-elizabeth",
   "metadata": {},
   "source": [
    "## Jeopardy! Quiz Yourself\n",
    " The game will ask questions to which the user must input an answer."
   ]
  },
  {
   "cell_type": "code",
   "execution_count": 132,
   "id": "accomplished-seattle",
   "metadata": {},
   "outputs": [
    {
     "name": "stdout",
     "output_type": "stream",
     "text": [
      "The category is SEE \"NN\" and the question is worth $800.0\n",
      "Question: Get thee to this synonym for a convent\n",
      "Answer: na\n",
      "Incorrect Answer\n",
      "Your total value is $0\n",
      "The correct answer was a nunnery\n"
     ]
    }
   ],
   "source": [
    "total_value = 0\n",
    "randomizer = round(random.random()*216929)\n",
    "random_question = df1.question.iloc[randomizer]\n",
    "print(\"The category is {} and the question is worth ${}\".format(df1.category.iloc[randomizer],df1.value.iloc[randomizer])) \n",
    "print(\"Question: \" + random_question)\n",
    "user_ans = input(\"Answer: \")\n",
    "\n",
    "if user_ans.lower() == df1.answer.iloc[randomizer].lower():\n",
    "    total_value = total_value + df1.value.iloc[randomizer]\n",
    "    print(\"Correct Answer\")\n",
    "    print(\"Your total value is ${}\".format(total_value))\n",
    "else:\n",
    "    print(\"Incorrect Answer\")\n",
    "    print(\"Your total value is ${}\".format(total_value))\n",
    "    print(\"The correct answer was {}\".format(df1.answer.iloc[randomizer]))\n",
    "    "
   ]
  }
 ],
 "metadata": {
  "kernelspec": {
   "display_name": "Python 3",
   "language": "python",
   "name": "python3"
  },
  "language_info": {
   "codemirror_mode": {
    "name": "ipython",
    "version": 3
   },
   "file_extension": ".py",
   "mimetype": "text/x-python",
   "name": "python",
   "nbconvert_exporter": "python",
   "pygments_lexer": "ipython3",
   "version": "3.8.5"
  }
 },
 "nbformat": 4,
 "nbformat_minor": 5
}

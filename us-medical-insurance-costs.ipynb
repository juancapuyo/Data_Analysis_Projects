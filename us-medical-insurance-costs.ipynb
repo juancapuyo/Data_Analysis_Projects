{
 "cells": [
  {
   "cell_type": "markdown",
   "metadata": {},
   "source": [
    "# U.S. Medical Insurance Costs\n",
    "#### The goals of this project are: \n",
    "\n",
    "- Find out the average BMI of patients.\n",
    "- What percentage of patients are smokers.\n",
    "    - How do insurance costs differ between smokers and non-smokers.\n",
    "- How do insurance costs differ between people with and without children."
   ]
  },
  {
   "cell_type": "code",
   "execution_count": 10,
   "metadata": {},
   "outputs": [],
   "source": [
    "import csv"
   ]
  },
  {
   "cell_type": "markdown",
   "metadata": {},
   "source": [
    "First, filter out and organize the data in order to fulfill the goals of this project. \n",
    "1. Create a ``BMI``list to find ``average_bmi``. \n",
    "2. Create a ``smoker`` list to find ``percent_smokers``. \n",
    "    2. Create two lists, ``ins_costs_smokers``and ``ins_costs_nons`` in order to find the average insurance costs of people who smoke and people who don't.\n",
    "3. Create two lists, ``ins_costs_with``and ``ins_costs_without`` in order to find the average insurance costs of people with and without children. "
   ]
  },
  {
   "cell_type": "code",
   "execution_count": 11,
   "metadata": {},
   "outputs": [],
   "source": [
    "bmis = []\n",
    "smoker = []\n",
    "insurance_costs = []\n",
    "ins_costs_smokers = []\n",
    "ins_costs_nons = []\n",
    "ins_costs_with = []\n",
    "ins_costs_without = []"
   ]
  },
  {
   "cell_type": "markdown",
   "metadata": {},
   "source": [
    "Now, that the lists have been created, populate the lists from csv file ``insurance.csv``."
   ]
  },
  {
   "cell_type": "code",
   "execution_count": 12,
   "metadata": {},
   "outputs": [],
   "source": [
    "with open(\"insurance.csv\") as insurance_data:\n",
    "    insurance_data_dict = csv.DictReader(insurance_data)\n",
    "    for row in insurance_data_dict:\n",
    "        bmis.append(row[\"bmi\"])\n",
    "        smoker.append(row[\"smoker\"])\n",
    "        insurance_costs.append(row[\"charges\"])\n",
    "        if row[\"children\"] == \"children\":\n",
    "            continue\n",
    "        elif row[\"children\"] == \"0\":\n",
    "            ins_costs_without.append(row[\"charges\"])\n",
    "        else:\n",
    "            ins_costs_with.append(row[\"charges\"])\n",
    "        if row[\"smoker\"] == \"yes\":\n",
    "            ins_costs_smokers.append(row[\"charges\"])\n",
    "        else:\n",
    "            ins_costs_nons.append(row[\"charges\"])"
   ]
  },
  {
   "cell_type": "markdown",
   "metadata": {},
   "source": [
    "Now that the data has been organized in lists, it is ready for analysis. To analyze the data, I will create the following methods:\n",
    "- ``calc_average_bmi`` to find the ``average_bmi``.\n",
    "- ``calc_percent_smokers`` to find the ``percent_smokers``.\n",
    "- ``compare_costs_smokers`` find the insurance cost difference between people who smoke and people who don't.\n",
    "- ``compare_costs_children``to find the insurance cost difference between ``ins_costs_with`` and ``ins_costs_without``."
   ]
  },
  {
   "cell_type": "code",
   "execution_count": 52,
   "metadata": {},
   "outputs": [],
   "source": [
    "def calc_average_bmi(bmis):\n",
    "    total = 0\n",
    "    for bmi in bmis:\n",
    "        total += float(bmi)\n",
    "    average_bmi = total/len(bmis)\n",
    "    return \"The average BMI of this dataset of US patients is {:.2f}\".format(average_bmi)\n",
    "\n",
    "def calc_percent_smokers(smokers_list):\n",
    "    people_who_smoke = 0\n",
    "    for smoker in smokers_list:\n",
    "        if smoker == \"yes\":\n",
    "            people_who_smoke += 1\n",
    "    percent_smokers =  people_who_smoke / len(smokers_list)*100\n",
    "    return \"{:.2f}% of the patients in this dataset smoke.\".format(percent_smokers)\n",
    "\n",
    "def compare_costs_smokers(data_s, data_n):\n",
    "    total_s = 0\n",
    "    for i in data_s:\n",
    "        total_s += float(i)\n",
    "    average_smoker = total_s/len(data_s)\n",
    "    \n",
    "    total_n = 0\n",
    "    for i in data_n:\n",
    "        total_n += float(i)\n",
    "    average_nonsmoker = total_n/len(data_n)\n",
    "    \n",
    "    if average_smoker > average_nonsmoker:\n",
    "        difference = average_smoker - average_nonsmoker \n",
    "        return \"In this data set, the insurance cost for smokers was higher by ${:.2f}\".format(difference)\n",
    "    else:\n",
    "        difference = average_nonsmoker - average_smoker\n",
    "        return \"In this data set, the insurance cost for non_smokers was higher by ${:.2f}\".format(difference)\n",
    "\n",
    "def compare_costs_children(ins_costs_with, ins_costs_without):\n",
    "    total_w = 0\n",
    "    for i in ins_costs_with:\n",
    "        total_w += float(i)\n",
    "    average_cost_w_children = total_w/len(ins_costs_with)\n",
    "    \n",
    "    total_wo = 0\n",
    "    for i in ins_costs_without:\n",
    "        total_wo += float(i)\n",
    "    average_cost_wo_children = total_wo/len(ins_costs_with)\n",
    "    \n",
    "    if average_cost_w_children > average_cost_wo_children:\n",
    "        difference = average_cost_w_children - average_cost_wo_children \n",
    "        return \"In this data set, the insurance cost for people with children was higher by ${:.2f}\".format(difference)\n",
    "    else:\n",
    "        difference = average_nonsmoker - average_smoker\n",
    "        return \"In this data set, the insurance cost for people without children was higher by ${:.2f}\".format(difference)"
   ]
  },
  {
   "cell_type": "markdown",
   "metadata": {},
   "source": [
    "#### Now, test the function on the lists to retrieve the analysis:"
   ]
  },
  {
   "cell_type": "code",
   "execution_count": 54,
   "metadata": {},
   "outputs": [
    {
     "name": "stdout",
     "output_type": "stream",
     "text": [
      "The average BMI of this dataset of US patients is 30.66\n",
      "20.48% of the patients in this dataset smoke.\n",
      "In this data set, the insurance cost for smokers was higher by $23615.96\n",
      "In this data set, the insurance cost for people with children was higher by $4659.27\n"
     ]
    }
   ],
   "source": [
    "average_bmi = calc_average_bmi(bmis)\n",
    "print(average_bmi)\n",
    "\n",
    "percent_smokers = calc_percent_smokers(smoker)\n",
    "print(percent_smokers)\n",
    "\n",
    "cost_comparison_smokers = compare_costs_smokers(ins_costs_smokers, ins_costs_nons)\n",
    "print(cost_comparison_smokers)\n",
    "\n",
    "cost_comparison_children = compare_costs_children(ins_costs_with, ins_costs_without)\n",
    "print(cost_comparison_children)"
   ]
  },
  {
   "cell_type": "code",
   "execution_count": null,
   "metadata": {},
   "outputs": [],
   "source": []
  }
 ],
 "metadata": {
  "kernelspec": {
   "display_name": "Python 3",
   "language": "python",
   "name": "python3"
  },
  "language_info": {
   "codemirror_mode": {
    "name": "ipython",
    "version": 3
   },
   "file_extension": ".py",
   "mimetype": "text/x-python",
   "name": "python",
   "nbconvert_exporter": "python",
   "pygments_lexer": "ipython3",
   "version": "3.8.5"
  }
 },
 "nbformat": 4,
 "nbformat_minor": 4
}
